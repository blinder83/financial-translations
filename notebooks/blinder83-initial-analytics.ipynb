{
 "cells": [
  {
   "cell_type": "markdown",
   "metadata": {},
   "source": [
    "#### Initial Analysis "
   ]
  },
  {
   "cell_type": "code",
   "execution_count": 19,
   "metadata": {},
   "outputs": [],
   "source": [
    "# import libraries\n",
    "import pandas as pd\n",
    "import numpy as np\n",
    "import matplotlib.pyplot as plt\n",
    "%matplotlib inline\n",
    "import seaborn as sns\n",
    "sns.set(style=\"whitegrid\")\n",
    "# place local scripts for charts and analysis here\n"
   ]
  },
  {
   "cell_type": "code",
   "execution_count": 5,
   "metadata": {},
   "outputs": [],
   "source": [
    "# read in files\n",
    "df1 = pd.read_csv(\"../data/interim/tables/country_data.csv\")\n",
    "df2 = pd.read_csv(\"../data/interim/tables/company-info.csv\")\n",
    "df3 = pd.read_csv(\"../data/interim/tables/financial_statement_data.csv\")"
   ]
  },
  {
   "cell_type": "markdown",
   "metadata": {},
   "source": [
    "#### *Analyze each table of data*"
   ]
  },
  {
   "cell_type": "code",
   "execution_count": 6,
   "metadata": {},
   "outputs": [
    {
     "data": {
      "text/html": [
       "<div>\n",
       "<style scoped>\n",
       "    .dataframe tbody tr th:only-of-type {\n",
       "        vertical-align: middle;\n",
       "    }\n",
       "\n",
       "    .dataframe tbody tr th {\n",
       "        vertical-align: top;\n",
       "    }\n",
       "\n",
       "    .dataframe thead th {\n",
       "        text-align: right;\n",
       "    }\n",
       "</style>\n",
       "<table border=\"1\" class=\"dataframe\">\n",
       "  <thead>\n",
       "    <tr style=\"text-align: right;\">\n",
       "      <th></th>\n",
       "      <th>country_name</th>\n",
       "      <th>country_regulator</th>\n",
       "      <th>regulator_link</th>\n",
       "      <th>disclaimer</th>\n",
       "    </tr>\n",
       "  </thead>\n",
       "  <tbody>\n",
       "    <tr>\n",
       "      <th>0</th>\n",
       "      <td>France</td>\n",
       "      <td>AMF</td>\n",
       "      <td>https://www.amf-france.org/eli/fr/aai/amf/rg/2...</td>\n",
       "      <td>True</td>\n",
       "    </tr>\n",
       "    <tr>\n",
       "      <th>1</th>\n",
       "      <td>Austria</td>\n",
       "      <td>UGB</td>\n",
       "      <td>NaN</td>\n",
       "      <td>NaN</td>\n",
       "    </tr>\n",
       "    <tr>\n",
       "      <th>2</th>\n",
       "      <td>Poland</td>\n",
       "      <td>Polish Financial Supervision Authority</td>\n",
       "      <td>NaN</td>\n",
       "      <td>NaN</td>\n",
       "    </tr>\n",
       "    <tr>\n",
       "      <th>3</th>\n",
       "      <td>Italy</td>\n",
       "      <td>CONSOB</td>\n",
       "      <td>NaN</td>\n",
       "      <td>NaN</td>\n",
       "    </tr>\n",
       "  </tbody>\n",
       "</table>\n",
       "</div>"
      ],
      "text/plain": [
       "  country_name                       country_regulator  \\\n",
       "0       France                                     AMF   \n",
       "1      Austria                                     UGB   \n",
       "2       Poland  Polish Financial Supervision Authority   \n",
       "3        Italy                                  CONSOB   \n",
       "\n",
       "                                      regulator_link disclaimer  \n",
       "0  https://www.amf-france.org/eli/fr/aai/amf/rg/2...       True  \n",
       "1                                                NaN        NaN  \n",
       "2                                                NaN        NaN  \n",
       "3                                                NaN        NaN  "
      ]
     },
     "execution_count": 6,
     "metadata": {},
     "output_type": "execute_result"
    }
   ],
   "source": [
    "df1.head()"
   ]
  },
  {
   "cell_type": "code",
   "execution_count": 70,
   "metadata": {},
   "outputs": [
    {
     "data": {
      "text/html": [
       "<div>\n",
       "<style scoped>\n",
       "    .dataframe tbody tr th:only-of-type {\n",
       "        vertical-align: middle;\n",
       "    }\n",
       "\n",
       "    .dataframe tbody tr th {\n",
       "        vertical-align: top;\n",
       "    }\n",
       "\n",
       "    .dataframe thead th {\n",
       "        text-align: right;\n",
       "    }\n",
       "</style>\n",
       "<table border=\"1\" class=\"dataframe\">\n",
       "  <thead>\n",
       "    <tr style=\"text-align: right;\">\n",
       "      <th></th>\n",
       "      <th>factset_id</th>\n",
       "      <th>name</th>\n",
       "      <th>Enterprise Category</th>\n",
       "      <th>Revenue</th>\n",
       "      <th>Total Assets</th>\n",
       "      <th>Number of Employees</th>\n",
       "      <th>FactSet Industry</th>\n",
       "      <th>country</th>\n",
       "      <th>website</th>\n",
       "      <th>Stock Exchange</th>\n",
       "    </tr>\n",
       "  </thead>\n",
       "  <tbody>\n",
       "    <tr>\n",
       "      <th>0</th>\n",
       "      <td>ALM-FR</td>\n",
       "      <td>Alpha MOS SA</td>\n",
       "      <td>medium</td>\n",
       "      <td>8.29</td>\n",
       "      <td>11.44</td>\n",
       "      <td>51</td>\n",
       "      <td>Industrial Machinery</td>\n",
       "      <td>France</td>\n",
       "      <td>http://www.alpha-mos.com/fr</td>\n",
       "      <td>EURONEXT PARIS</td>\n",
       "    </tr>\n",
       "    <tr>\n",
       "      <th>1</th>\n",
       "      <td>ALO-FR</td>\n",
       "      <td>Alstom SA</td>\n",
       "      <td>large</td>\n",
       "      <td>6163.00</td>\n",
       "      <td>33,233.00</td>\n",
       "      <td>83,736</td>\n",
       "      <td>Trucks/Construction/Farm Machinery</td>\n",
       "      <td>France</td>\n",
       "      <td>http://www.alstom.com</td>\n",
       "      <td>EURONEXT PARIS</td>\n",
       "    </tr>\n",
       "    <tr>\n",
       "      <th>2</th>\n",
       "      <td>AREVA-FR</td>\n",
       "      <td>Areva SA</td>\n",
       "      <td>large</td>\n",
       "      <td>8336.00</td>\n",
       "      <td>29,920.00</td>\n",
       "      <td>41,847</td>\n",
       "      <td>Electrical Products</td>\n",
       "      <td>France</td>\n",
       "      <td>http://www.areva.com</td>\n",
       "      <td>EURONEXT PARIS</td>\n",
       "    </tr>\n",
       "    <tr>\n",
       "      <th>3</th>\n",
       "      <td>BUR-FR</td>\n",
       "      <td>Burelle S.A.</td>\n",
       "      <td>large</td>\n",
       "      <td>4439.15</td>\n",
       "      <td>3,742.01</td>\n",
       "      <td>21,833</td>\n",
       "      <td>Auto Parts: OEM</td>\n",
       "      <td>France</td>\n",
       "      <td>http://www.burelle.fr</td>\n",
       "      <td>EURONEXT PARIS</td>\n",
       "    </tr>\n",
       "    <tr>\n",
       "      <th>4</th>\n",
       "      <td>CATG-FR</td>\n",
       "      <td>CATANA Group SA</td>\n",
       "      <td>medium</td>\n",
       "      <td>36.93</td>\n",
       "      <td>39.59</td>\n",
       "      <td>183</td>\n",
       "      <td>Trucks/Construction/Farm Machinery</td>\n",
       "      <td>France</td>\n",
       "      <td>http://www.catana.com</td>\n",
       "      <td>EURONEXT PARIS</td>\n",
       "    </tr>\n",
       "  </tbody>\n",
       "</table>\n",
       "</div>"
      ],
      "text/plain": [
       "  factset_id             name Enterprise Category  Revenue  Total Assets   \\\n",
       "0     ALM-FR     Alpha MOS SA              medium      8.29         11.44   \n",
       "1     ALO-FR        Alstom SA               large   6163.00     33,233.00   \n",
       "2   AREVA-FR         Areva SA               large   8336.00     29,920.00   \n",
       "3     BUR-FR     Burelle S.A.               large   4439.15      3,742.01   \n",
       "4    CATG-FR  CATANA Group SA              medium     36.93         39.59   \n",
       "\n",
       "  Number of Employees                    FactSet Industry country  \\\n",
       "0                  51                Industrial Machinery  France   \n",
       "1              83,736  Trucks/Construction/Farm Machinery  France   \n",
       "2              41,847                 Electrical Products  France   \n",
       "3              21,833                     Auto Parts: OEM  France   \n",
       "4                 183  Trucks/Construction/Farm Machinery  France   \n",
       "\n",
       "                       website  Stock Exchange  \n",
       "0  http://www.alpha-mos.com/fr  EURONEXT PARIS  \n",
       "1        http://www.alstom.com  EURONEXT PARIS  \n",
       "2         http://www.areva.com  EURONEXT PARIS  \n",
       "3        http://www.burelle.fr  EURONEXT PARIS  \n",
       "4        http://www.catana.com  EURONEXT PARIS  "
      ]
     },
     "execution_count": 70,
     "metadata": {},
     "output_type": "execute_result"
    }
   ],
   "source": [
    "df2.head()"
   ]
  },
  {
   "cell_type": "code",
   "execution_count": 8,
   "metadata": {},
   "outputs": [
    {
     "data": {
      "text/html": [
       "<div>\n",
       "<style scoped>\n",
       "    .dataframe tbody tr th:only-of-type {\n",
       "        vertical-align: middle;\n",
       "    }\n",
       "\n",
       "    .dataframe tbody tr th {\n",
       "        vertical-align: top;\n",
       "    }\n",
       "\n",
       "    .dataframe thead th {\n",
       "        text-align: right;\n",
       "    }\n",
       "</style>\n",
       "<table border=\"1\" class=\"dataframe\">\n",
       "  <thead>\n",
       "    <tr style=\"text-align: right;\">\n",
       "      <th></th>\n",
       "      <th>finstate_id</th>\n",
       "      <th>factset_id</th>\n",
       "      <th>fiscal_year</th>\n",
       "      <th>translated_financial_statements</th>\n",
       "      <th>complete_financials</th>\n",
       "      <th>audit_firm</th>\n",
       "      <th>disclaimer</th>\n",
       "      <th>notes</th>\n",
       "    </tr>\n",
       "  </thead>\n",
       "  <tbody>\n",
       "    <tr>\n",
       "      <th>0</th>\n",
       "      <td>ALM-FR-1</td>\n",
       "      <td>ALM-FR</td>\n",
       "      <td>31-Dec-2014</td>\n",
       "      <td>NaN</td>\n",
       "      <td>No</td>\n",
       "      <td>NaN</td>\n",
       "      <td>NaN</td>\n",
       "      <td>All official documents in French</td>\n",
       "    </tr>\n",
       "    <tr>\n",
       "      <th>1</th>\n",
       "      <td>ALO-FR-2</td>\n",
       "      <td>ALO-FR</td>\n",
       "      <td>31-Mar-2015</td>\n",
       "      <td>NaN</td>\n",
       "      <td>Yes</td>\n",
       "      <td>PricewaterhouseCoopers and Mazars</td>\n",
       "      <td>True</td>\n",
       "      <td>*Provides AMF disclaimer at the beginning stat...</td>\n",
       "    </tr>\n",
       "    <tr>\n",
       "      <th>2</th>\n",
       "      <td>AREVA-FR-3</td>\n",
       "      <td>AREVA-FR</td>\n",
       "      <td>31-Dec-2014</td>\n",
       "      <td>NaN</td>\n",
       "      <td>Yes</td>\n",
       "      <td>MAZARS and Ernst &amp; Young</td>\n",
       "      <td>True</td>\n",
       "      <td>NaN</td>\n",
       "    </tr>\n",
       "    <tr>\n",
       "      <th>3</th>\n",
       "      <td>BUR-FR-4</td>\n",
       "      <td>BUR-FR</td>\n",
       "      <td>31-Dec-2014</td>\n",
       "      <td>No</td>\n",
       "      <td>CNF</td>\n",
       "      <td>NaN</td>\n",
       "      <td>NaN</td>\n",
       "      <td>NaN</td>\n",
       "    </tr>\n",
       "    <tr>\n",
       "      <th>4</th>\n",
       "      <td>CATG-FR-5</td>\n",
       "      <td>CATG-FR</td>\n",
       "      <td>31-Aug-2015</td>\n",
       "      <td>No</td>\n",
       "      <td>CNF</td>\n",
       "      <td>NaN</td>\n",
       "      <td>NaN</td>\n",
       "      <td>NaN</td>\n",
       "    </tr>\n",
       "  </tbody>\n",
       "</table>\n",
       "</div>"
      ],
      "text/plain": [
       "  finstate_id factset_id  fiscal_year translated_financial_statements  \\\n",
       "0    ALM-FR-1     ALM-FR  31-Dec-2014                             NaN   \n",
       "1    ALO-FR-2     ALO-FR  31-Mar-2015                             NaN   \n",
       "2  AREVA-FR-3   AREVA-FR  31-Dec-2014                             NaN   \n",
       "3    BUR-FR-4     BUR-FR  31-Dec-2014                              No   \n",
       "4   CATG-FR-5    CATG-FR  31-Aug-2015                              No   \n",
       "\n",
       "  complete_financials                         audit_firm disclaimer  \\\n",
       "0                  No                                NaN        NaN   \n",
       "1                 Yes  PricewaterhouseCoopers and Mazars       True   \n",
       "2                 Yes           MAZARS and Ernst & Young       True   \n",
       "3                 CNF                                NaN        NaN   \n",
       "4                 CNF                                NaN        NaN   \n",
       "\n",
       "                                               notes  \n",
       "0                   All official documents in French  \n",
       "1  *Provides AMF disclaimer at the beginning stat...  \n",
       "2                                                NaN  \n",
       "3                                                NaN  \n",
       "4                                                NaN  "
      ]
     },
     "execution_count": 8,
     "metadata": {},
     "output_type": "execute_result"
    }
   ],
   "source": [
    "df3.head()"
   ]
  },
  {
   "cell_type": "markdown",
   "metadata": {},
   "source": [
    "### Analytic-1:"
   ]
  },
  {
   "cell_type": "code",
   "execution_count": 12,
   "metadata": {},
   "outputs": [
    {
     "name": "stdout",
     "output_type": "stream",
     "text": [
      "large       64.161850\n",
      "medium      17.919075\n",
      "excluded    10.982659\n",
      "small        4.046243\n",
      "micro        2.890173\n",
      "Name: Enterprise Category, dtype: float64\n"
     ]
    }
   ],
   "source": [
    "value_counts = df2['Enterprise Category'].value_counts(normalize=True) * 100\n",
    "print(value_counts)"
   ]
  },
  {
   "cell_type": "code",
   "execution_count": 26,
   "metadata": {},
   "outputs": [
    {
     "data": {
      "text/plain": [
       "array([64.16184971, 17.91907514, 10.98265896,  4.04624277,  2.89017341])"
      ]
     },
     "execution_count": 26,
     "metadata": {},
     "output_type": "execute_result"
    }
   ],
   "source": [
    "value_counts.values"
   ]
  },
  {
   "cell_type": "code",
   "execution_count": 50,
   "metadata": {},
   "outputs": [
    {
     "data": {
      "image/png": "[encoded data removed]",
      "text/plain": [
       "<Figure size 1080x1080 with 2 Axes>"
      ]
     },
     "metadata": {},
     "output_type": "display_data"
    }
   ],
   "source": [
    "categories = ['large', 'medium', 'excluded', 'small', 'micro']\n",
    "values = [64.16184971, 17.91907514, 10.98265896,  4.04624277,  2.89017341]\n",
    "\n",
    "countries = ['Poland', 'France', 'Italy', 'Austria']\n",
    "no_countries = [0.38150289, 0.3699422 , 0.14450867, 0.10404624]\n",
    "\n",
    "# bar chart\n",
    "f, axes = plt.subplots(2, 1, figsize=(15,15))\n",
    "\n",
    "sns.barplot(x=no_countries, y=countries, color='g', ax=axes[0]).set_title(\"No. of Companies per Country\")\n",
    "sns.despine(left=True, right=True, bottom=True, top=True)\n",
    "\n",
    "sns.barplot(x=values , y=categories, color='b', ax=axes[1]).set_title(\"No. of Companies based on size\")\n",
    "sns.despine(left=True, right=True, bottom=True, top=True)\n",
    "plt.savefig(\"appendix-a.png\")"
   ]
  },
  {
   "cell_type": "markdown",
   "metadata": {},
   "source": [
    "Need to define what excluded means within the 2nd chart."
   ]
  },
  {
   "cell_type": "code",
   "execution_count": 56,
   "metadata": {},
   "outputs": [
    {
     "name": "stdout",
     "output_type": "stream",
     "text": [
      "<class 'pandas.core.frame.DataFrame'>\n",
      "RangeIndex: 173 entries, 0 to 172\n",
      "Data columns (total 10 columns):\n",
      "factset_id             173 non-null object\n",
      "name                   173 non-null object\n",
      "Enterprise Category    173 non-null object\n",
      "Revenue                173 non-null object\n",
      "Total Assets           173 non-null object\n",
      "Number of Employees    173 non-null object\n",
      "FactSet Industry       173 non-null object\n",
      "country                173 non-null object\n",
      "website                173 non-null object\n",
      "Stock Exchange         173 non-null object\n",
      "dtypes: object(10)\n",
      "memory usage: 13.6+ KB\n"
     ]
    }
   ],
   "source": [
    "df2.info()"
   ]
  },
  {
   "cell_type": "code",
   "execution_count": 61,
   "metadata": {},
   "outputs": [
    {
     "data": {
      "text/plain": [
       "<matplotlib.axes._subplots.AxesSubplot at 0x7f0386221cf8>"
      ]
     },
     "execution_count": 61,
     "metadata": {},
     "output_type": "execute_result"
    },
    {
     "data": {
      "image/png": "[encoded data removed]",
      "text/plain": [
       "<Figure size 432x288 with 1 Axes>"
      ]
     },
     "metadata": {},
     "output_type": "display_data"
    }
   ],
   "source": [
    "df2['Revenue '].plot.hist()"
   ]
  },
  {
   "cell_type": "markdown",
   "metadata": {},
   "source": [
    "Data for revenue appears to be messed up. May need to get data from other source such as quandl or get access again to factset."
   ]
  },
  {
   "cell_type": "code",
   "execution_count": 75,
   "metadata": {},
   "outputs": [
    {
     "data": {
      "text/plain": [
       "<matplotlib.axes._subplots.AxesSubplot at 0x7f0386ab9dd8>"
      ]
     },
     "execution_count": 75,
     "metadata": {},
     "output_type": "execute_result"
    },
    {
     "data": {
      "image/png": "[encoded data removed]",
      "text/plain": [
       "<Figure size 432x288 with 1 Axes>"
      ]
     },
     "metadata": {},
     "output_type": "display_data"
    }
   ],
   "source": [
    "df2['Total Assets '] = df2['Total Assets '].str.replace(\",\", \"\").replace(\"-\",0).astype(float)\n",
    "df2['Total Assets '].plot.hist()"
   ]
  },
  {
   "cell_type": "code",
   "execution_count": 78,
   "metadata": {},
   "outputs": [],
   "source": [
    "df2['Number of Employees'] = df2['Number of Employees'].str.replace(\",\", \"\").replace(\"-\",0).astype(float)"
   ]
  },
  {
   "cell_type": "code",
   "execution_count": 79,
   "metadata": {},
   "outputs": [
    {
     "data": {
      "text/plain": [
       "<matplotlib.axes._subplots.AxesSubplot at 0x7f03864cfa20>"
      ]
     },
     "execution_count": 79,
     "metadata": {},
     "output_type": "execute_result"
    },
    {
     "data": {
      "image/png": "[encoded data removed]",
      "text/plain": [
       "<Figure size 432x288 with 1 Axes>"
      ]
     },
     "metadata": {},
     "output_type": "display_data"
    }
   ],
   "source": [
    "df2['Number of Employees'].plot.hist()"
   ]
  },
  {
   "cell_type": "code",
   "execution_count": null,
   "metadata": {},
   "outputs": [],
   "source": []
  }
 ],
 "metadata": {
  "kernelspec": {
   "display_name": "Python 3",
   "language": "python",
   "name": "python3"
  },
  "language_info": {
   "codemirror_mode": {
    "name": "ipython",
    "version": 3
   },
   "file_extension": ".py",
   "mimetype": "text/x-python",
   "name": "python",
   "nbconvert_exporter": "python",
   "pygments_lexer": "ipython3",
   "version": "3.7.0"
  }
 },
 "nbformat": 4,
 "nbformat_minor": 2
}
